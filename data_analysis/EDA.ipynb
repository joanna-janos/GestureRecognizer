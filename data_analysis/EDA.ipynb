{
 "cells": [
  {
   "cell_type": "markdown",
   "metadata": {},
   "source": [
    "# Exploratory data analysis (EDA)"
   ]
  },
  {
   "cell_type": "markdown",
   "metadata": {},
   "source": [
    "## Dataset"
   ]
  },
  {
   "cell_type": "markdown",
   "metadata": {},
   "source": [
    "**Hand Gesture of the Colombian sign language** dataset is taken from [kaggle](https://www.kaggle.com/evernext10/hand-gesture-of-the-colombian-sign-language). <br>\n",
    "Images represent hand gestures for numbers (0-5) and vowels (A, E, I, O, U). <br>"
   ]
  },
  {
   "cell_type": "markdown",
   "metadata": {},
   "source": [
    "## Files"
   ]
  },
  {
   "cell_type": "markdown",
   "metadata": {},
   "source": [
    "### Filenames"
   ]
  },
  {
   "cell_type": "markdown",
   "metadata": {},
   "source": [
    "Let's see how many images are for each sign."
   ]
  },
  {
   "cell_type": "code",
   "execution_count": null,
   "metadata": {},
   "outputs": [],
   "source": [
    "from os import listdir\n",
    "from os.path import isfile, join\n",
    "\n",
    "def get_gestures_count(men = True):\n",
    "    gestures = {}\n",
    "    signs = ['0', '1', '2', '3', '4', '5', 'A', 'E', 'I', 'O', 'U']\n",
    "    for sing in signs:\n",
    "        path = '../data/men/' + sign + '/' if men else '../data/Woman/' + sign + '/'\n",
    "        files = [file for file in listdir(path) if isfile(join(path, file))]\n",
    "        gestures[sign] = len(files)\n",
    "    return gestures\n",
    "\n",
    "men_gestures = get_gestures_count()\n",
    "women_gestures = get_gestures_count(False)"
   ]
  },
  {
   "cell_type": "markdown",
   "metadata": {},
   "source": [
    "- Men <br>\n",
    "Below we can observe number of images for each gesture."
   ]
  },
  {
   "cell_type": "code",
   "execution_count": null,
   "metadata": {},
   "outputs": [],
   "source": [
    "import pandas as pd\n",
    "\n",
    "men_gestures_df = pd.DataFrame.from_dict(men_gestures)\n",
    "display(men_gestures_df)"
   ]
  },
  {
   "cell_type": "markdown",
   "metadata": {},
   "source": [
    "`Observation: ` <br>\n",
    "TODO"
   ]
  },
  {
   "cell_type": "markdown",
   "metadata": {},
   "source": [
    "- Women <br>\n",
    "Below we can observe number of images for each gesture."
   ]
  },
  {
   "cell_type": "code",
   "execution_count": null,
   "metadata": {},
   "outputs": [],
   "source": [
    "women_gestures_df = pd.DataFrame.from_dict(women_gestures)\n",
    "display(women_gestures_df)"
   ]
  },
  {
   "cell_type": "markdown",
   "metadata": {},
   "source": [
    "`Observation: ` <br>\n",
    "TODO"
   ]
  },
  {
   "cell_type": "markdown",
   "metadata": {},
   "source": [
    "- Overall sum of images for each gesture"
   ]
  },
  {
   "cell_type": "code",
   "execution_count": null,
   "metadata": {},
   "outputs": [],
   "source": [
    "gestures_df = men_gestures_df.set_index('Gesture').add(women_gestures_df.set_index('Gesture'),\n",
    "                                                       fill_value=0).reset_index()\n",
    "display(gestures_df)"
   ]
  },
  {
   "cell_type": "markdown",
   "metadata": {},
   "source": [
    "`Observation: ` <br>\n",
    "TODO"
   ]
  },
  {
   "cell_type": "markdown",
   "metadata": {},
   "source": [
    "Then I check if all files in each sign's directory has **prefix** with sign name e.g. all images representing A has 'A' letter at the beggining of filename. <br>\n",
    "If it's true, it will be easier to create image dataset."
   ]
  },
  {
   "cell_type": "code",
   "execution_count": null,
   "metadata": {},
   "outputs": [],
   "source": [
    "def check_if_filename_starts_with_gesture_name(men = True):\n",
    "    filenames_start_with_gesture_name = {}\n",
    "    signs = ['0', '1', '2', '3', '4', '5', 'A', 'E', 'I', 'O', 'U']\n",
    "    for sing in signs:\n",
    "        path = '../data/men/' + sign + '/' if men else '../data/Woman/' + sign + '/'\n",
    "        files = [f for f in listdir(path) if isfile(join(path, f))]\n",
    "        filenames_start_with_gesture_name[sign] = all(file.startswith(sing) for file in files)\n",
    "    return filenames_start_with_gesture_name\n",
    "        \n",
    "men_filenames_start_with_gesture_name = check_if_filename_starts_with_gesture_name()\n",
    "women_filenames_start_with_gesture_name = check_if_filename_starts_with_gesture_name(False)"
   ]
  },
  {
   "cell_type": "markdown",
   "metadata": {},
   "source": [
    "- Men <br>\n",
    "Below we can observe if all files under given gesture directory have filename that has gesture name at the beginning."
   ]
  },
  {
   "cell_type": "code",
   "execution_count": null,
   "metadata": {},
   "outputs": [],
   "source": [
    "men_filenames_start_with_gesture_name_df = pd.DataFrame.from_dict(men_filenames_start_with_gesture_name)\n",
    "display(men_filenames_start_with_gesture_name_df)"
   ]
  },
  {
   "cell_type": "markdown",
   "metadata": {},
   "source": [
    "`Observation: ` <br>\n",
    "TODO"
   ]
  },
  {
   "cell_type": "markdown",
   "metadata": {},
   "source": [
    "- Women <br>\n",
    "Below we can observe if all files under given gesture directory have filename that has gesture name at the beginning."
   ]
  },
  {
   "cell_type": "code",
   "execution_count": null,
   "metadata": {},
   "outputs": [],
   "source": [
    "women_filenames_start_with_gesture_name_df = pd.DataFrame.from_dict(women_filenames_start_with_gesture_name)\n",
    "display(women_filenames_start_with_gesture_name_df)"
   ]
  },
  {
   "cell_type": "markdown",
   "metadata": {},
   "source": [
    "`Observation: ` <br>\n",
    "TODO"
   ]
  },
  {
   "cell_type": "markdown",
   "metadata": {},
   "source": [
    "### Data format\n",
    "Do images have same extension?"
   ]
  },
  {
   "cell_type": "code",
   "execution_count": null,
   "metadata": {},
   "outputs": [],
   "source": [
    "def check_filenames_extensions(men = True):\n",
    "    extensions = {}\n",
    "    signs = ['0', '1', '2', '3', '4', '5', 'A', 'E', 'I', 'O', 'U']\n",
    "    for sing in signs:\n",
    "        path = '../data/men/' + sign + '/' if men else '../data/Woman/' + sign + '/'\n",
    "        files = [f for f in listdir(path) if isfile(join(path, f))]\n",
    "        extensions[sign] = set([file.split('.')[-1] for file in files])\n",
    "    return extensions\n",
    "        \n",
    "men_files_extensions = check_filenames_extensions()\n",
    "women_files_extensions = check_filenames_extensions(False)"
   ]
  },
  {
   "cell_type": "markdown",
   "metadata": {},
   "source": [
    "- men <br>\n",
    "In below dataframe we can see unique extensions for images representing gestures."
   ]
  },
  {
   "cell_type": "code",
   "execution_count": null,
   "metadata": {},
   "outputs": [],
   "source": [
    "men_files_extensions_df = pd.DataFrame.from_dict(men_files_extensions)\n",
    "display(men_files_extensions_df)"
   ]
  },
  {
   "cell_type": "markdown",
   "metadata": {},
   "source": [
    "`Observation: ` <br>\n",
    "TODO"
   ]
  },
  {
   "cell_type": "markdown",
   "metadata": {},
   "source": [
    "- women <br>\n",
    "In below dataframe we can see unique extensions for images representing gestures."
   ]
  },
  {
   "cell_type": "code",
   "execution_count": null,
   "metadata": {},
   "outputs": [],
   "source": [
    "women_files_extensions_df = pd.DataFrame.from_dict(women_files_extensions)\n",
    "display(women_files_extensions_df)"
   ]
  },
  {
   "cell_type": "markdown",
   "metadata": {},
   "source": [
    "`Observation: ` <br>\n",
    "TODO"
   ]
  },
  {
   "cell_type": "markdown",
   "metadata": {},
   "source": [
    "### Dimensions"
   ]
  },
  {
   "cell_type": "code",
   "execution_count": null,
   "metadata": {},
   "outputs": [],
   "source": [
    "from PIL import Image\n",
    "\n",
    "def get_dimension_statistics(men = True):\n",
    "    widths = {}\n",
    "    heights = {}\n",
    "    signs = ['0', '1', '2', '3', '4', '5', 'A', 'E', 'I', 'O', 'U']\n",
    "    for sing in signs:\n",
    "        path = '../data/men/' + sign + '/' if men else '../data/Woman/' + sign + '/'\n",
    "        widths_and_heights = [Image.open(path + f).size  for f in listdir(path) if isfile(join(path, f))]\n",
    "        widths[sign] = [width for (width, height) in widths_and_heights]\n",
    "        heights[sign] = [height for (width, height) in widths_and_heights]\n",
    "    return widths, heights\n",
    "\n",
    "widths_men, heights_men = get_dimension_statistics()\n",
    "widths_women, heights_women = get_dimension_statistics(False)"
   ]
  },
  {
   "cell_type": "markdown",
   "metadata": {},
   "source": [
    "- men <br>\n",
    "Below are statistics for images' dimensions in *men* directory for each gesture."
   ]
  },
  {
   "cell_type": "code",
   "execution_count": null,
   "metadata": {},
   "outputs": [],
   "source": [
    "widths_men_df = pd.DataFrame.from_dict(widths_men)\n",
    "display(widths_men_df.describe())\n",
    "\n",
    "heights_men_df = pd.DataFrame.from_dict(heights_men)\n",
    "display(heights_men_df.describe())"
   ]
  },
  {
   "cell_type": "markdown",
   "metadata": {},
   "source": [
    "`Observation: ` <br>\n",
    "TODO"
   ]
  },
  {
   "cell_type": "markdown",
   "metadata": {},
   "source": [
    "- women <br>\n",
    "Below are statistics for images' dimensions in *women* directory for each gesture."
   ]
  },
  {
   "cell_type": "code",
   "execution_count": null,
   "metadata": {},
   "outputs": [],
   "source": [
    "widths_women_df = pd.DataFrame.from_dict(widths_women)\n",
    "display(widths_women_df.describe())\n",
    "\n",
    "heights_women_df = pd.DataFrame.from_dict(heights_women)\n",
    "display(heights_women_df.describe())"
   ]
  },
  {
   "cell_type": "markdown",
   "metadata": {},
   "source": [
    "`Observation: ` <br>\n",
    "TODO"
   ]
  },
  {
   "cell_type": "markdown",
   "metadata": {},
   "source": [
    "### Data mode\n",
    "What are images' data modes?"
   ]
  },
  {
   "cell_type": "code",
   "execution_count": null,
   "metadata": {},
   "outputs": [],
   "source": [
    "def get_unique_img_modes(men = True):\n",
    "    unique_modes = {}\n",
    "    signs = ['0', '1', '2', '3', '4', '5', 'A', 'E', 'I', 'O', 'U']\n",
    "    for sing in signs:\n",
    "        path = '../data/men/' + sign + '/' if men else '../data/Woman/' + sign + '/'\n",
    "        modes = [Image.open(path + f).mode for f in listdir(path) if isfile(join(path, f))]\n",
    "        unique_modes[sign] = set(modes)\n",
    "    return unique_modes\n",
    "        \n",
    "men_unique_img_modes = get_unique_img_modes()\n",
    "women_unique_img_modes = get_unique_img_modes(False)"
   ]
  },
  {
   "cell_type": "markdown",
   "metadata": {},
   "source": [
    "- men <br>\n",
    "Below data frame shows unique images' modes for each gesture."
   ]
  },
  {
   "cell_type": "code",
   "execution_count": null,
   "metadata": {},
   "outputs": [],
   "source": [
    "men_unique_img_modes_df = pd.DataFrame.from_dict(men_unique_img_modes)\n",
    "display(men_unique_img_modes_df)"
   ]
  },
  {
   "cell_type": "markdown",
   "metadata": {},
   "source": [
    "`Observation: ` <br>\n",
    "TODO"
   ]
  },
  {
   "cell_type": "markdown",
   "metadata": {},
   "source": [
    "- women <br>\n",
    "Below data frame shows unique images' modes for each gesture."
   ]
  },
  {
   "cell_type": "code",
   "execution_count": null,
   "metadata": {},
   "outputs": [],
   "source": [
    "women_unique_img_modes_df = pd.DataFrame.from_dict(women_unique_img_modes)\n",
    "display(women_unique_img_modes_df)"
   ]
  },
  {
   "cell_type": "markdown",
   "metadata": {},
   "source": [
    "`Observation: ` <br>\n",
    "TODO"
   ]
  },
  {
   "cell_type": "markdown",
   "metadata": {},
   "source": [
    "## Train and validation data"
   ]
  },
  {
   "cell_type": "markdown",
   "metadata": {},
   "source": [
    "Data is not splitted into train and validation so I will do it on my own in *TODO: fill with proper filename*."
   ]
  },
  {
   "cell_type": "markdown",
   "metadata": {},
   "source": [
    "Pictures are divided into shown by men and women. I would like to have a classifier which recognizes gesture no matter who show it so I have decided to join corresponding signs."
   ]
  },
  {
   "cell_type": "markdown",
   "metadata": {},
   "source": [
    "## Gestures to recognize\n",
    "As dataset is huge I have decided to recognize half of gestures. Choosen gestures: *TODO: choose them*"
   ]
  }
 ],
 "metadata": {
  "kernelspec": {
   "display_name": "Python 3",
   "language": "python",
   "name": "python3"
  },
  "language_info": {
   "codemirror_mode": {
    "name": "ipython",
    "version": 3
   },
   "file_extension": ".py",
   "mimetype": "text/x-python",
   "name": "python",
   "nbconvert_exporter": "python",
   "pygments_lexer": "ipython3",
   "version": "3.7.5"
  }
 },
 "nbformat": 4,
 "nbformat_minor": 2
}
